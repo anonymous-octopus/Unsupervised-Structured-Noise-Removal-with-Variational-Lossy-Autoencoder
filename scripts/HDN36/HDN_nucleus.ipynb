{
 "cells": [
  {
   "cell_type": "code",
   "execution_count": null,
   "metadata": {
    "collapsed": false,
    "jupyter": {
     "outputs_hidden": false
    }
   },
   "outputs": [],
   "source": [
    "# Modules for deep learning and other operations\n",
    "import os\n",
    "from math import floor, ceil\n",
    "from skimage.metrics import peak_signal_noise_ratio as PSNR\n",
    "import numpy as np\n",
    "import torch\n",
    "from torchvision import transforms\n",
    "import pytorch_lightning as pl\n",
    "# Modules with networks\n",
    "import sys\n",
    "sys.path.append('../../')\n",
    "from decoder.net import SDecoder\n",
    "from HDN.noise_model.gaussianMixtureNoiseModel import GaussianMixtureNoiseModel\n",
    "from HDN.models.lvae import LadderVAE\n",
    "from utils.datasets import TrainDatasetUnsupervised, PredictDatasetVAE\n",
    "# Modules for loading and viewing images\n",
    "import tifffile\n",
    "import matplotlib.pyplot as plt\n",
    "%matplotlib inline"
   ]
  },
  {
   "cell_type": "code",
   "execution_count": null,
   "metadata": {
    "collapsed": false,
    "jupyter": {
     "outputs_hidden": false
    }
   },
   "outputs": [],
   "source": [
    "# Load the noisy images\n",
    "# These will be a PyTorch tensor with dimensions: [Number, Channels, Height, Width]\n",
    "low_snr = tifffile.imread('../../data/nucleus/low_snr.tif')\n",
    "low_snr = torch.from_numpy(low_snr)\n",
    "\n",
    "high_snr = tifffile.imread('../../data/nucleus/high_snr.tif')\n",
    "high_snr = torch.from_numpy(high_snr)"
   ]
  },
  {
   "cell_type": "code",
   "execution_count": null,
   "metadata": {
    "collapsed": false,
    "jupyter": {
     "outputs_hidden": false
    }
   },
   "outputs": [],
   "source": [
    "# Scale high_snr to match low_snr by minimising mean square error between the two\n",
    "def MSE(array1, array2):\n",
    "    return torch.mean(((array1 - array2) ** 2))\n",
    "\n",
    "\n",
    "def grid_search(search_range, step_size, high_snr, low_snr):\n",
    "    search_values = torch.arange(start=0, end=search_range, step=step_size)\n",
    "\n",
    "    MSEs = [MSE(high_snr * scale, low_snr) for scale in search_values]\n",
    "\n",
    "    return search_values, MSEs\n",
    "\n",
    "\n",
    "high_snr_scaled = []\n",
    "low_snr_scaled = []\n",
    "for i in range(len(low_snr)):\n",
    "    gt = high_snr[i]\n",
    "    gt = gt - torch.mean(gt)\n",
    "\n",
    "    noisy = low_snr[i]\n",
    "    noisy = noisy - torch.mean(noisy)\n",
    "\n",
    "    search_values, MSEs = grid_search(search_range=1,\n",
    "                                      step_size=0.001,\n",
    "                                      high_snr=gt,\n",
    "                                      low_snr=noisy)\n",
    "\n",
    "    index = torch.argmin(torch.tensor(MSEs))\n",
    "    optimal_scale = search_values[index]\n",
    "\n",
    "    gt = gt * optimal_scale\n",
    "\n",
    "    high_snr_scaled.append(gt)\n",
    "    low_snr_scaled.append(noisy)\n",
    "\n",
    "high_snr_scaled = torch.stack(high_snr_scaled, dim=0)\n",
    "low_snr_scaled = torch.stack(low_snr_scaled, dim=0)"
   ]
  },
  {
   "cell_type": "code",
   "execution_count": null,
   "metadata": {
    "collapsed": false,
    "jupyter": {
     "outputs_hidden": false
    }
   },
   "outputs": [],
   "source": [
    "# Check\n",
    "idx = np.random.randint(len(low_snr))\n",
    "fig, ax = plt.subplots(1, 2)\n",
    "ax[0].imshow(low_snr[idx, 0])\n",
    "ax[1].imshow(high_snr[idx, 0])\n",
    "fig.show()"
   ]
  },
  {
   "cell_type": "code",
   "execution_count": null,
   "metadata": {
    "collapsed": false,
    "jupyter": {
     "outputs_hidden": false
    }
   },
   "outputs": [],
   "source": [
    "# Create GMM noise model\n",
    "min_signal = np.min(high_snr_scaled.numpy())\n",
    "max_signal = np.max(high_snr_scaled.numpy())\n",
    "\n",
    "nm_checkpoint_path = '../../checkpoints/Hagen/nucleus/HDN/noise_model/'\n",
    "if not os.path.exists(nm_checkpoint_path):\n",
    "    os.makedirs(nm_checkpoint_path)\n",
    "n_gaussian = 3\n",
    "n_coeff = 2\n",
    "device = torch.device('cuda')\n",
    "gaussianMixtureNoiseModel = GaussianMixtureNoiseModel(min_signal=min_signal,\n",
    "                                                      max_signal=max_signal,\n",
    "                                                      path=nm_checkpoint_path,\n",
    "                                                      weight=None,\n",
    "                                                      n_gaussian=n_gaussian,\n",
    "                                                      n_coeff=n_coeff,\n",
    "                                                      min_sigma=50,\n",
    "                                                      device=device)"
   ]
  },
  {
   "cell_type": "code",
   "execution_count": null,
   "metadata": {
    "collapsed": false,
    "jupyter": {
     "outputs_hidden": false
    }
   },
   "outputs": [],
   "source": [
    "gaussianMixtureNoiseModel.train(high_snr_scaled.numpy(), low_snr_scaled.cpu().numpy(), batchSize=250000, n_epochs=2000, learning_rate=0.1, name='GMM_noise_model')"
   ]
  },
  {
   "cell_type": "code",
   "execution_count": null,
   "metadata": {
    "collapsed": false,
    "jupyter": {
     "outputs_hidden": false
    }
   },
   "outputs": [],
   "source": [
    "noise_model_params = np.load(os.path.join(nm_checkpoint_path, 'GMM_noise_model.npz'))\n",
    "noise_model = GaussianMixtureNoiseModel(params=noise_model_params, device=device)"
   ]
  },
  {
   "cell_type": "code",
   "execution_count": null,
   "metadata": {
    "collapsed": false,
    "jupyter": {
     "outputs_hidden": false
    }
   },
   "outputs": [],
   "source": [
    "# Create training, validation and prediction dataloaders\n",
    "# Although this is an usupervised method, it is being compared to a supervised method, so should have the same prediction set.\n",
    "# Here we select the last 10 images as the prediction set.\n",
    "predict_set = low_snr_scaled[-10:]\n",
    "predict_set_gt = high_snr_scaled[-10:]\n",
    "\n",
    "# Create training and validation dataloaders\n",
    "batch_size = 4\n",
    "crop_size = 256\n",
    "n_iters = max(low_snr_scaled.shape[-2], low_snr_scaled.shape[-1]) // crop_size\n",
    "transform = transforms.RandomCrop(crop_size)\n",
    "\n",
    "train_val_set = TrainDatasetUnsupervised(low_snr_scaled, n_iters=n_iters, transform=transform)\n",
    "train_set, val_set = torch.utils.data.random_split(train_val_set, (floor(0.8*len(train_val_set)), ceil(0.2*len(train_val_set))))\n",
    "train_loader = torch.utils.data.DataLoader(train_set, batch_size=batch_size, shuffle=True)\n",
    "val_loader = torch.utils.data.DataLoader(val_set, batch_size=batch_size, shuffle=False)\n",
    "\n",
    "n_samples = 10 # The number of times the same image should be evaluated on\n",
    "predict_set = PredictDatasetVAE(predict_set, n_samples=n_samples)\n",
    "predict_loader = torch.utils.data.DataLoader(predict_set, batch_size=n_samples, shuffle=False)"
   ]
  },
  {
   "cell_type": "code",
   "execution_count": null,
   "metadata": {
    "collapsed": false,
    "jupyter": {
     "outputs_hidden": false
    }
   },
   "outputs": [],
   "source": [
    "# The number of features the clean signal code will have, the signal decoder will need to know this\n",
    "s_code_features = 32\n",
    "\n",
    "# Create the signal decoder.\n",
    "s_decoder = SDecoder(colour_channels=1, code_features=s_code_features)\n",
    "\n",
    "# Create the VAE\n",
    "# Pass the noise model and signal decoder as arguments\n",
    "# use_uncond_mode_at is a list of layers for which the posterior distribution will not be conditioned on x, with 0 being the final layer\n",
    "vae = LadderVAE(colour_channels=1,\n",
    "                data_mean=low_snr_scaled.mean(),\n",
    "                data_std=low_snr_scaled.std(),\n",
    "                img_shape=(crop_size, crop_size),\n",
    "                noise_model=noise_model,\n",
    "                s_decoder=s_decoder,\n",
    "                n_filters=s_code_features,\n",
    "                use_uncond_mode_at=[0, 1])"
   ]
  },
  {
   "cell_type": "code",
   "execution_count": null,
   "metadata": {
    "collapsed": false,
    "jupyter": {
     "outputs_hidden": false
    }
   },
   "outputs": [],
   "source": [
    "# Where training logs and the trained parameters will be saved\n",
    "checkpoint_path = '../../checkpoints/Hagen/nucleus/HDN'"
   ]
  },
  {
   "cell_type": "code",
   "execution_count": null,
   "metadata": {
    "collapsed": false,
    "jupyter": {
     "outputs_hidden": false
    }
   },
   "outputs": [],
   "source": [
    "# Create the pytorch lightning trainer\n",
    "trainer = pl.Trainer(default_root_dir=checkpoint_path,\n",
    "                     accelerator='gpu',\n",
    "                     devices=1,\n",
    "                     max_epochs=500,\n",
    "                     log_every_n_steps=len(train_set) // batch_size)"
   ]
  },
  {
   "cell_type": "code",
   "execution_count": null,
   "metadata": {
    "collapsed": false,
    "jupyter": {
     "outputs_hidden": false
    }
   },
   "outputs": [],
   "source": [
    "# Train and save model\n",
    "trainer.fit(vae, train_loader, val_loader)\n",
    "trainer.save_checkpoint(os.path.join(checkpoint_path, 'final_params.ckpt'))"
   ]
  },
  {
   "cell_type": "code",
   "execution_count": null,
   "metadata": {
    "collapsed": false,
    "jupyter": {
     "outputs_hidden": false
    }
   },
   "outputs": [],
   "source": [
    "# Load the trained model\n",
    "# Note the new hyperparameters: the noise model is no longer necessary and the loss does not need to be calculated. The image shape (img_shape) is the same this time but would need to be changed if we were to evaluate on images of a different size to the training ones.\n",
    "vae = LadderVAE.load_from_checkpoint(os.path.join(checkpoint_path, 'final_params.ckpt'),\n",
    "                                     noise_model=None, \n",
    "                                     s_decoder=s_decoder,\n",
    "                                     mode_pred=True,\n",
    "                                     img_shape=(512, 512),\n",
    "                                     strict=False).eval()\n",
    "\n",
    "# Evaluate the model on the test set\n",
    "# The returned \"predictions\" will be a list with length equal to the number of noisy images.\n",
    "# Each element of the list is a tensor of shape [n_samples, colours, height, width] and is n_samples many signal estimates for a noisy image\n",
    "predictions = trainer.predict(vae, predict_loader)\n",
    "\n",
    "# To get an MMSE, we take the mean of each batch returned by predict()\n",
    "MMSEs = [samples.mean(dim=0) for samples in predictions]"
   ]
  },
  {
   "cell_type": "code",
   "execution_count": null,
   "metadata": {
    "collapsed": false,
    "jupyter": {
     "outputs_hidden": false
    }
   },
   "outputs": [],
   "source": [
    "# Select a random image, its corresponding clean estimates and its ground truth\n",
    "idx = np.random.randint(len(predict_set_gt))\n",
    "\n",
    "noisy_image = predict_set[idx * n_samples, 0]\n",
    "gt = predict_set_gt[idx, 0]\n",
    "MMSE = MMSEs[idx][0]\n",
    "samples = predictions[idx]\n",
    "# Select a random sample\n",
    "sample_idx = np.random.randint(n_samples)\n",
    "sample = samples[sample_idx, 0]\n",
    "\n",
    "# Display all three\n",
    "fig, ax = plt.subplots(2, 2, figsize=[10, 10])\n",
    "ax[0, 0].imshow(noisy_image, cmap='inferno')\n",
    "ax[0, 0].axis('off')\n",
    "ax[0, 0].set_title('Input')\n",
    "\n",
    "ax[0, 1].imshow(gt, cmap='inferno')\n",
    "ax[0, 1].axis('off')\n",
    "ax[0, 1].set_title('Ground truth')\n",
    "\n",
    "ax[1, 0].imshow(MMSE, cmap='inferno')\n",
    "ax[1, 0].axis('off')\n",
    "ax[1, 0].set_title('MMSE')\n",
    "\n",
    "ax[1, 1].imshow(sample, cmap='inferno')\n",
    "ax[1, 1].axis('off')\n",
    "ax[1, 1].set_title('Sample')\n",
    "\n",
    "fig.show()"
   ]
  },
  {
   "cell_type": "code",
   "execution_count": null,
   "metadata": {
    "tags": []
   },
   "outputs": [],
   "source": [
    "# Scale gt to match training data by minimising mean square error between the two\n",
    "def MSE(array1, array2):\n",
    "    return np.mean(((array1 - array2) ** 2))\n",
    "\n",
    "def grid_search(search_range, step_size, high_snr, low_snr):\n",
    "    search_values = np.arange(start=0, stop=search_range, step=step_size)\n",
    "\n",
    "    MSEs = [MSE(high_snr * scale, low_snr) for scale in search_values]\n",
    "\n",
    "    return search_values, MSEs\n",
    "\n",
    "from tqdm import tqdm\n",
    "\n",
    "psnrs = []\n",
    "for i in tqdm(range(len(predict_set_gt))):\n",
    "    gt = predict_set_gt[i, 0].numpy()\n",
    "    gt = gt - np.mean(gt)\n",
    "\n",
    "    noisy = MMSEs[i][0].numpy()\n",
    "    noisy = noisy - np.mean(noisy)\n",
    "\n",
    "    search_values, MSEs = grid_search(search_range=1.5,\n",
    "                                      step_size=0.001,\n",
    "                                      high_snr=gt,\n",
    "                                      low_snr=noisy)\n",
    "\n",
    "    index = np.argmin(MSEs)\n",
    "    optimal_scale = search_values[index]\n",
    "\n",
    "    gt = gt * optimal_scale\n",
    "\n",
    "    data_range = gt.max() - gt.min()\n",
    "\n",
    "    psnrs.append(PSNR(gt,\n",
    "                      noisy,\n",
    "                      data_range=data_range))\n",
    "\n",
    "print(np.mean(psnrs))"
   ]
  },
  {
   "cell_type": "code",
   "execution_count": null,
   "metadata": {},
   "outputs": [],
   "source": []
  }
 ],
 "metadata": {
  "kernelspec": {
   "display_name": "Python 3 (ipykernel)",
   "language": "python",
   "name": "python3"
  },
  "language_info": {
   "codemirror_mode": {
    "name": "ipython",
    "version": 3
   },
   "file_extension": ".py",
   "mimetype": "text/x-python",
   "name": "python",
   "nbconvert_exporter": "python",
   "pygments_lexer": "ipython3",
   "version": "3.10.9"
  }
 },
 "nbformat": 4,
 "nbformat_minor": 4
}
