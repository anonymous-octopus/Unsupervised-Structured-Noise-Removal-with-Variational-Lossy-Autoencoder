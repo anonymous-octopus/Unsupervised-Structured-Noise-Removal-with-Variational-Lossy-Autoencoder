{
 "cells": [
  {
   "cell_type": "code",
   "execution_count": null,
   "metadata": {
    "collapsed": true
   },
   "outputs": [],
   "source": [
    "# Modules for deep learning and other operations\n",
    "import os\n",
    "from math import floor, ceil\n",
    "from skimage.metrics import peak_signal_noise_ratio as PSNR\n",
    "import numpy as np\n",
    "import torch\n",
    "from torchvision import transforms\n",
    "import pytorch_lightning as pl\n",
    "# Modules with networks\n",
    "import sys\n",
    "sys.path.append('../../')\n",
    "from decoder.net import SDecoder\n",
    "from UNet.models.lvae import UNet\n",
    "from utils.datasets import TrainDatasetSupervised, PredictDatasetUNet\n",
    "# Modules for loading and viewing images\n",
    "import tifffile\n",
    "import matplotlib.pyplot as plt\n",
    "%matplotlib inline"
   ]
  },
  {
   "cell_type": "code",
   "execution_count": null,
   "metadata": {
    "collapsed": false
   },
   "outputs": [],
   "source": [
    "# Load the noisy images\n",
    "# These will be a PyTorch tensor with dimensions: [Number, Channels, Height, Width]\n",
    "low_snr = tifffile.imread('../../data/nucleus/low_snr.tif')\n",
    "low_snr = torch.from_numpy(low_snr)\n",
    "\n",
    "high_snr = tifffile.imread('../../data/nucleus/high_snr.tif')\n",
    "high_snr = torch.from_numpy(high_snr)"
   ]
  },
  {
   "cell_type": "code",
   "execution_count": null,
   "metadata": {
    "collapsed": false
   },
   "outputs": [],
   "source": [
    "# Check\n",
    "idx = np.random.randint(len(low_snr))\n",
    "fig, ax = plt.subplots(1, 2)\n",
    "ax[0].imshow(low_snr[idx, 0])\n",
    "ax[1].imshow(high_snr[idx, 0])\n",
    "fig.show()"
   ]
  },
  {
   "cell_type": "code",
   "execution_count": null,
   "metadata": {
    "collapsed": false
   },
   "outputs": [],
   "source": [
    "# Create training, validation and prediction dataloaders\n",
    "# Here we select the last 10 images as the prediction set.\n",
    "train_val_set = low_snr[:-10]\n",
    "train_val_set_gt = high_snr[:-10]\n",
    "predict_set = low_snr[-10:]\n",
    "predict_set_gt = high_snr[-10:]\n",
    "\n",
    "batch_size = 4\n",
    "crop_size = 256\n",
    "n_iters = max(train_val_set.shape[-2], train_val_set.shape[-1]) // crop_size\n",
    "transform = transforms.RandomCrop(crop_size)\n",
    "\n",
    "train_val_set = TrainDatasetSupervised(train_val_set, train_val_set_gt, n_iters=n_iters, transform=transform)\n",
    "train_set, val_set = torch.utils.data.random_split(train_val_set, (floor(0.8*len(train_val_set)), ceil(0.2*len(train_val_set))))\n",
    "train_loader = torch.utils.data.DataLoader(train_set, batch_size=batch_size, shuffle=True)\n",
    "val_loader = torch.utils.data.DataLoader(val_set, batch_size=batch_size, shuffle=False)\n",
    "\n",
    "predict_set = PredictDatasetUNet(predict_set)\n",
    "predict_loader = torch.utils.data.DataLoader(predict_set, batch_size=batch_size, shuffle=False)"
   ]
  },
  {
   "cell_type": "code",
   "execution_count": null,
   "metadata": {
    "collapsed": false
   },
   "outputs": [],
   "source": [
    "# The number of features the clean signal code will have, the signal decoder will need to know this\n",
    "s_code_features = 32\n",
    "\n",
    "# Create the s decoder. This will learn to decode the signal code into a signal estimate\n",
    "s_decoder = SDecoder(colour_channels=1, code_features=s_code_features)\n",
    "\n",
    "# Where training logs and the trained parameters will be saved\n",
    "checkpoint_path = '../../checkpoints/Hagen/nucleus/CARE'\n",
    "\n",
    "# Create the VAE\n",
    "# Pass the noise model as an argument\n",
    "unet = UNet(colour_channels=1,\n",
    "           data_mean=low_snr.mean(),\n",
    "           data_std=low_snr.std(),\n",
    "           img_shape=(crop_size, crop_size),\n",
    "           s_decoder=s_decoder,\n",
    "           n_filters=s_code_features)\n",
    "\n",
    "trainer = pl.Trainer(default_root_dir=checkpoint_path,\n",
    "                     accelerator='gpu',\n",
    "                     devices=1,\n",
    "                     max_epochs=500,\n",
    "                     log_every_n_steps=len(train_set) // batch_size)"
   ]
  },
  {
   "cell_type": "code",
   "execution_count": null,
   "metadata": {
    "collapsed": false
   },
   "outputs": [],
   "source": [
    "# Train and save model\n",
    "trainer.fit(unet, train_loader, val_loader)\n",
    "trainer.save_checkpoint(os.path.join(checkpoint_path, 'final_params.ckpt'))"
   ]
  },
  {
   "cell_type": "code",
   "execution_count": null,
   "metadata": {
    "collapsed": false
   },
   "outputs": [],
   "source": [
    "# Load the trained model\n",
    "# Note the new hyperparameters: the noise model is no longer necessary and the loss does not need to be calculated so <mode_pred> is set True. The image shape <img_shape> is the same this time but would need to be changed if we were to evaluate on images of a different size to the training ones.\n",
    "unet = UNet.load_from_checkpoint(os.path.join(checkpoint_path, 'final_params.ckpt'), s_decoder=s_decoder, img_shape=(512, 512), mode_pred=True).eval()\n",
    "\n",
    "# Evaluate the model on the test set\n",
    "# The returned \"predictions\" will be a list with length equal to the number of noisy images divided by batch size.\n",
    "# Each element of the list is a tensor of shape [batch_size, colours, height, width]\n",
    "predictions = trainer.predict(unet, predict_loader)"
   ]
  },
  {
   "cell_type": "code",
   "execution_count": null,
   "metadata": {
    "collapsed": false
   },
   "outputs": [],
   "source": [
    "# Select a random image, its corresponding clean estimates and its ground truth\n",
    "batch_idx = np.random.randint(len(predictions))\n",
    "img_idx = np.random.randint(batch_size)\n",
    "\n",
    "noisy_image = predict_set[batch_idx * batch_size + img_idx, 0]\n",
    "gt = predict_set_gt[batch_idx * batch_size + img_idx, 0]\n",
    "denoised = predictions[batch_idx][img_idx, 0]\n",
    "\n",
    "# Display all three\n",
    "fig, ax = plt.subplots(1, 3, figsize=[15, 15])\n",
    "ax[0].imshow(noisy_image, cmap='inferno')\n",
    "ax[0].axis('off')\n",
    "ax[0].set_title('Input')\n",
    "\n",
    "ax[1].imshow(gt, cmap='inferno')\n",
    "ax[1].axis('off')\n",
    "ax[1].set_title('Ground truth')\n",
    "\n",
    "ax[2].imshow(denoised, cmap='inferno')\n",
    "ax[2].axis('off')\n",
    "ax[2].set_title('Denoised')\n",
    "\n",
    "fig.show()"
   ]
  },
  {
   "cell_type": "code",
   "execution_count": null,
   "metadata": {
    "collapsed": false
   },
   "outputs": [],
   "source": [
    "# Calculate PSNR\n",
    "predictions_unbatched = []\n",
    "for i in range(len(predictions)):\n",
    "    for j in range(batch_size):\n",
    "        try:\n",
    "            predictions_unbatched.append(predictions[i][j])\n",
    "        except:\n",
    "            break\n",
    "\n",
    "# Scale gt to match training data by minimising mean square error between the two\n",
    "def MSE(array1, array2):\n",
    "    return np.mean(((array1 - array2) ** 2))\n",
    "\n",
    "def grid_search(search_range, step_size, high_snr, low_snr):\n",
    "    search_values = np.arange(start=0, stop=search_range, step=step_size)\n",
    "\n",
    "    MSEs = [MSE(high_snr * scale, low_snr) for scale in search_values]\n",
    "\n",
    "    return search_values, MSEs\n",
    "\n",
    "from tqdm import tqdm\n",
    "\n",
    "psnrs = []\n",
    "for i in tqdm(range(len(predict_set_gt))):\n",
    "    gt = predict_set_gt[i, 0].numpy()\n",
    "    gt = gt - np.mean(gt)\n",
    "\n",
    "    noisy = predictions_unbatched[i][0].numpy()\n",
    "    noisy = noisy - np.mean(noisy)\n",
    "\n",
    "    search_values, MSEs = grid_search(search_range=1.5,\n",
    "                                      step_size=0.0001,\n",
    "                                      high_snr=gt,\n",
    "                                      low_snr=noisy)\n",
    "\n",
    "    index = np.argmin(MSEs)\n",
    "    optimal_scale = search_values[index]\n",
    "\n",
    "    gt = gt * optimal_scale\n",
    "\n",
    "    data_range = gt.max() - gt.min()\n",
    "\n",
    "    psnrs.append(PSNR(gt,\n",
    "                      noisy,\n",
    "                      data_range=data_range))\n",
    "\n",
    "print(np.mean(psnrs))"
   ]
  },
  {
   "cell_type": "code",
   "execution_count": null,
   "metadata": {
    "collapsed": false
   },
   "outputs": [],
   "source": []
  }
 ],
 "metadata": {
  "kernelspec": {
   "display_name": "Python 3",
   "language": "python",
   "name": "python3"
  },
  "language_info": {
   "codemirror_mode": {
    "name": "ipython",
    "version": 2
   },
   "file_extension": ".py",
   "mimetype": "text/x-python",
   "name": "python",
   "nbconvert_exporter": "python",
   "pygments_lexer": "ipython2",
   "version": "2.7.6"
  }
 },
 "nbformat": 4,
 "nbformat_minor": 0
}
