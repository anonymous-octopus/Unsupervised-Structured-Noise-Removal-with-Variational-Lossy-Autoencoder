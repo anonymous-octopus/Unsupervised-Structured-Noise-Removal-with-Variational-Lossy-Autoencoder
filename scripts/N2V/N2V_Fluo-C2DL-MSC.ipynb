{
 "cells": [
  {
   "cell_type": "code",
   "execution_count": null,
   "metadata": {
    "collapsed": false
   },
   "outputs": [],
   "source": [
    "# Modules for deep learning and other operations\n",
    "import os\n",
    "from math import floor, ceil\n",
    "import numpy as np\n",
    "import torch\n",
    "from torchvision import transforms\n",
    "import pytorch_lightning as pl\n",
    "# Modules with networks\n",
    "import sys\n",
    "sys.path.append('../../')\n",
    "from decoder.net import SDecoder\n",
    "from N2V.models.lvae import N2V\n",
    "from N2V.masks import RowMask, ColumnMask, CrossMask\n",
    "from utils.datasets import TrainDatasetUnsupervised, PredictDatasetUNet\n",
    "# Modules for loading and viewing images\n",
    "import tifffile\n",
    "import matplotlib.pyplot as plt\n",
    "%matplotlib inline"
   ]
  },
  {
   "cell_type": "code",
   "execution_count": null,
   "metadata": {
    "collapsed": false
   },
   "outputs": [],
   "source": [
    "# Load the noisy images\n",
    "# These will be a list of PyTorch tensors with dimensions: [Channels, Height, Width]\n",
    "top_dir = '../../data/Fluo-C2DL-MSC/low_snr'\n",
    "files = os.listdir(top_dir)\n",
    "low_snr = [tifffile.imread(os.path.join(top_dir, file)) for file in files]\n",
    "low_snr = [torch.from_numpy(image) for image in low_snr]"
   ]
  },
  {
   "cell_type": "code",
   "execution_count": null,
   "metadata": {
    "collapsed": false
   },
   "outputs": [],
   "source": [
    "cumulative_sum = 0\n",
    "cumulative_size = 0\n",
    "for i in range(len(low_snr)):\n",
    "    cumulative_sum += low_snr[i].sum()\n",
    "    cumulative_size += low_snr[i].numel()\n",
    "\n",
    "low_snr_mean = cumulative_sum / cumulative_size\n",
    "\n",
    "cumulative_deviation = 0\n",
    "for i in range(len(low_snr)):\n",
    "    cumulative_deviation += ((low_snr[i] - low_snr_mean)**2).sum()\n",
    "\n",
    "low_snr_std = (cumulative_deviation / cumulative_size)**0.5"
   ]
  },
  {
   "cell_type": "code",
   "execution_count": null,
   "metadata": {
    "collapsed": false
   },
   "outputs": [],
   "source": [
    "# Check\n",
    "idx = np.random.randint(len(low_snr))\n",
    "plt.imshow(low_snr[idx][0])\n",
    "plt.show()"
   ]
  },
  {
   "cell_type": "code",
   "execution_count": null,
   "metadata": {
    "collapsed": false
   },
   "outputs": [],
   "source": [
    "# Create training, validation and prediction dataloaders\n",
    "batch_size = 4\n",
    "crop_size = 256\n",
    "n_iters = max(low_snr[0].shape[-2], low_snr[0].shape[-1]) // crop_size\n",
    "transform = transforms.RandomCrop(crop_size)\n",
    "\n",
    "train_val_set = TrainDatasetUnsupervised(low_snr, n_iters=n_iters, transform=transform)\n",
    "train_set, val_set = torch.utils.data.random_split(train_val_set, (floor(0.8*len(train_val_set)), ceil(0.2*len(train_val_set))))\n",
    "train_loader = torch.utils.data.DataLoader(train_set, batch_size=batch_size, shuffle=True)\n",
    "val_loader = torch.utils.data.DataLoader(val_set, batch_size=batch_size, shuffle=False)\n",
    "\n",
    "predict_set = [image[:, :512, :512] for image in low_snr]\n",
    "\n",
    "predict_set = PredictDatasetUNet(predict_set)\n",
    "predict_loader = torch.utils.data.DataLoader(predict_set, batch_size=batch_size, shuffle=False)"
   ]
  },
  {
   "cell_type": "code",
   "execution_count": null,
   "metadata": {
    "collapsed": false
   },
   "outputs": [],
   "source": [
    "# Create the masking function. This will apply a median mask to the random pixels in a cross shape\n",
    "mask_func = CrossMask(n_masks=10, search_area=(5, 5)).forward\n",
    "\n",
    "# The number of features the clean signal code will have, the signal decoder will need to know this\n",
    "s_code_features = 32\n",
    "\n",
    "# Create the s decoder. This will learn to decode the signal code into a signal estimate\n",
    "s_decoder = SDecoder(colour_channels=1, code_features=s_code_features)\n",
    "\n",
    "# Create the UNet\n",
    "# Pass the masking function as an argument\n",
    "n2v = N2V(colour_channels=1,\n",
    "          data_mean=low_snr_mean,\n",
    "          data_std=low_snr_std,\n",
    "          img_shape=(crop_size, crop_size),\n",
    "          s_decoder=s_decoder,\n",
    "          n_filters=s_code_features,\n",
    "          mask_func=mask_func)"
   ]
  },
  {
   "cell_type": "code",
   "execution_count": null,
   "metadata": {
    "collapsed": false
   },
   "outputs": [],
   "source": [
    "# Where training logs and the trained parameters will be saved\n",
    "checkpoint_path = '../../checkpoints/Fluo-C2DL-MSC/N2V'\n",
    "\n",
    "trainer = pl.Trainer(default_root_dir=checkpoint_path,\n",
    "                     accelerator='gpu',\n",
    "                     devices=1,\n",
    "                     max_epochs=500,\n",
    "                     log_every_n_steps=len(train_set) // batch_size)"
   ]
  },
  {
   "cell_type": "code",
   "execution_count": null,
   "metadata": {
    "collapsed": false
   },
   "outputs": [],
   "source": [
    "# Train and save model\n",
    "trainer.fit(n2v, train_loader, val_loader)\n",
    "trainer.save_checkpoint(os.path.join(checkpoint_path, 'final_params.ckpt'))"
   ]
  },
  {
   "cell_type": "code",
   "execution_count": null,
   "metadata": {
    "collapsed": false
   },
   "outputs": [],
   "source": [
    "# Load the trained model\n",
    "# Note the new hyperparameters: the loss does not need to be calculated so <mode_pred> is set True. The image shape <img_shape> is the same this time but would need to be changed if we were to evaluate on images of a different size to the training ones.\n",
    "n2v = N2V.load_from_checkpoint(os.path.join(checkpoint_path, 'final_params.ckpt'),\n",
    "                               s_decoder=s_decoder,\n",
    "                               img_shape=(512, 512),\n",
    "                               mode_pred=True).eval()\n",
    "\n",
    "# Evaluate the model on the test set\n",
    "# The returned \"predictions\" will be a list with length equal to the number of noisy images divided by batch size.\n",
    "# Each element of the list is a tensor of shape [batch_size, colours, height, width]\n",
    "predictions = trainer.predict(n2v, predict_loader)"
   ]
  },
  {
   "cell_type": "code",
   "execution_count": null,
   "metadata": {
    "collapsed": false
   },
   "outputs": [],
   "source": [
    "# Select a random image, its corresponding clean estimates and its ground truth\n",
    "batch_idx = np.random.randint(len(predictions))\n",
    "img_idx = np.random.randint(batch_size)\n",
    "\n",
    "noisy_image = predict_set[batch_idx * batch_size + img_idx][0]\n",
    "denoised = predictions[batch_idx][img_idx, 0]\n",
    "\n",
    "vmin = np.percentile(noisy_image, 1)\n",
    "vmax = np.percentile(noisy_image, 99.99)\n",
    "\n",
    "# Display all three\n",
    "fig, ax = plt.subplots(1, 2, figsize=[15, 15])\n",
    "ax[0].imshow(noisy_image, cmap='inferno', vmin=vmin, vmax=vmax)\n",
    "ax[0].axis('off')\n",
    "ax[0].set_title('Input')\n",
    "\n",
    "ax[1].imshow(denoised, cmap='inferno', vmin=vmin, vmax=vmax)\n",
    "ax[1].axis('off')\n",
    "ax[1].set_title('Denoised')\n",
    "\n",
    "fig.show()"
   ]
  },
  {
   "cell_type": "code",
   "execution_count": null,
   "metadata": {
    "collapsed": false
   },
   "outputs": [],
   "source": []
  }
 ],
 "metadata": {
  "kernelspec": {
   "display_name": "Python 3",
   "language": "python",
   "name": "python3"
  },
  "language_info": {
   "codemirror_mode": {
    "name": "ipython",
    "version": 2
   },
   "file_extension": ".py",
   "mimetype": "text/x-python",
   "name": "python",
   "nbconvert_exporter": "python",
   "pygments_lexer": "ipython2",
   "version": "2.7.6"
  }
 },
 "nbformat": 4,
 "nbformat_minor": 0
}
