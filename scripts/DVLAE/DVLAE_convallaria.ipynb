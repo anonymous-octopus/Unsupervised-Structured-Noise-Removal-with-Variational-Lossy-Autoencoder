{
 "cells": [
  {
   "cell_type": "code",
   "execution_count": null,
   "id": "8d3193cf-28bb-45b0-8f34-a0639a06fb42",
   "metadata": {},
   "outputs": [],
   "source": [
    "# Modules for deep learning and other operations\n",
    "import os\n",
    "from math import floor, ceil\n",
    "from skimage.metrics import peak_signal_noise_ratio as PSNR\n",
    "import numpy as np\n",
    "import torch\n",
    "from torchvision import transforms\n",
    "import pytorch_lightning as pl\n",
    "# Modules with networks\n",
    "import sys\n",
    "sys.path.append('../../')\n",
    "from noise_models.cnn import PixelCNN\n",
    "from decoder.net import SDecoder\n",
    "from LVAE.models.lvae import LadderVAE\n",
    "from utils.datasets import TrainDatasetUnsupervised, PredictDatasetVAE\n",
    "# Modules for loading and viewing images\n",
    "import tifffile\n",
    "import matplotlib.pyplot as plt\n",
    "%matplotlib inline"
   ]
  },
  {
   "cell_type": "code",
   "execution_count": null,
   "id": "b72e364e-f11a-40fe-953a-26f922e2d54d",
   "metadata": {},
   "outputs": [],
   "source": [
    "# Load the noisy images\n",
    "# These will be a PyTorch tensor with dimensions: [Number, Channels, Height, Width]\n",
    "low_snr = tifffile.imread('../../data/convallaria/flower.tif').astype(float)\n",
    "low_snr = torch.from_numpy(low_snr[:, np.newaxis]).to(torch.float)\n",
    "\n",
    "# Make an estimate of the ground truth by averaging the observations\n",
    "high_snr = low_snr.mean(dim=0, keepdims=True).repeat_interleave(len(low_snr), 0)"
   ]
  },
  {
   "cell_type": "code",
   "execution_count": null,
   "id": "2c6e3e1c-72f6-4e82-b484-65681143bd4f",
   "metadata": {},
   "outputs": [],
   "source": [
    "# Check\n",
    "idx = np.random.randint(len(low_snr))\n",
    "fig, ax = plt.subplots(1, 2)\n",
    "ax[0].imshow(low_snr[idx, 0])\n",
    "ax[1].imshow(high_snr[idx, 0])\n",
    "fig.show()"
   ]
  },
  {
   "cell_type": "code",
   "execution_count": null,
   "id": "1574feee-4c4e-44aa-b2dc-60b4a92ab948",
   "metadata": {},
   "outputs": [],
   "source": [
    "# Create training, validation and prediction dataloaders\n",
    "# Although this is a self-supervised method, it is being compared to a supervised method, so should have the same prediction set.\n",
    "# Here we select the top left quadrant as the prediction set.\n",
    "predict_set = low_snr[..., :512, :512]\n",
    "predict_set_gt = high_snr[..., :512, :512]\n",
    "\n",
    "batch_size = 4\n",
    "crop_size = 256\n",
    "n_iters = max(low_snr.shape[-2], low_snr.shape[-1]) // crop_size\n",
    "transform = transforms.RandomCrop(crop_size)\n",
    "\n",
    "train_val_set = TrainDatasetUnsupervised(low_snr, n_iters=n_iters, transform=transform)\n",
    "train_set, val_set = torch.utils.data.random_split(train_val_set, (floor(0.8*len(train_val_set)), ceil(0.2*len(train_val_set))))\n",
    "train_loader = torch.utils.data.DataLoader(train_set, batch_size=batch_size, shuffle=True)\n",
    "val_loader = torch.utils.data.DataLoader(val_set, batch_size=batch_size, shuffle=False)\n",
    "\n",
    "n_samples = 10 # The number of times the same image should be evaluated on\n",
    "predict_set = PredictDatasetVAE(predict_set, n_samples=n_samples)\n",
    "predict_loader = torch.utils.data.DataLoader(predict_set, batch_size=n_samples, shuffle=False)"
   ]
  },
  {
   "cell_type": "code",
   "execution_count": null,
   "id": "397cd6f6-3594-436c-92e1-cca922b06171",
   "metadata": {},
   "outputs": [],
   "source": [
    "# The number of features the clean signal code will have, both the noise model and the signal decoder will need to know this\n",
    "s_code_features = 32\n",
    "\n",
    "# Create the kernel mask for the noise model.\n",
    "# This mask will allow 15 horizontally adjacent pixels into the receptive field.\n",
    "kernel_mask = torch.zeros((1, 16))\n",
    "kernel_mask[-1, :] = 1\n",
    "kernel_mask[:, -1] = 1\n",
    "kernel_mask[-1, -1] = 0\n",
    "\n",
    "# Create the noise model.\n",
    "noise_model = PixelCNN(colour_channels=1,\n",
    "                       code_features=s_code_features,\n",
    "                       kernel_mask=kernel_mask,\n",
    "                       n_filters=32,\n",
    "                       n_layers=4,\n",
    "                       n_gaussians=5)\n",
    "\n",
    "# Create the signal decoder.\n",
    "s_decoder = SDecoder(colour_channels=1, code_features=s_code_features)\n",
    "\n",
    "# Create the VAE\n",
    "# Pass the noise model and signal decoder as arguments\n",
    "vae = LadderVAE(colour_channels=1,\n",
    "                data_mean=low_snr.mean(),\n",
    "                data_std=low_snr.std(),\n",
    "                img_shape=(crop_size, crop_size),\n",
    "                noise_model=noise_model,\n",
    "                s_decoder=s_decoder,\n",
    "                n_filters=s_code_features)"
   ]
  },
  {
   "cell_type": "code",
   "execution_count": null,
   "id": "ef0cb593-93c5-4b58-851e-273897126125",
   "metadata": {},
   "outputs": [],
   "source": [
    "# Where training logs and the trained parameters will be saved\n",
    "checkpoint_path = '../../checkpoints/convallaria/DVLAE'\n",
    "\n",
    "# Create the pytorch lightning trainer\n",
    "trainer = pl.Trainer(default_root_dir=checkpoint_path,\n",
    "                     accelerator='gpu',\n",
    "                     devices=1,\n",
    "                     max_epochs=500,\n",
    "                     log_every_n_steps=len(train_set) // batch_size)"
   ]
  },
  {
   "cell_type": "code",
   "execution_count": null,
   "id": "9a41d224-1967-4427-b09d-b98ac8ca73c4",
   "metadata": {},
   "outputs": [],
   "source": [
    "# Train and save model\n",
    "trainer.fit(vae, train_loader, val_loader)\n",
    "trainer.save_checkpoint(os.path.join(checkpoint_path, 'final_params.ckpt'))"
   ]
  },
  {
   "cell_type": "code",
   "execution_count": null,
   "id": "006d83f4-b5df-4765-9b08-7646710f70b5",
   "metadata": {},
   "outputs": [],
   "source": [
    "# Load the trained model\n",
    "# Note the new hyperparameters: the noise model is no longer necessary and the loss does not need to be calculated so <mode_pred> is set True. The image shape <img_shape> is the same this time but would need to be changed if we were to evaluate on images of a different size to the training ones.\n",
    "vae = LadderVAE.load_from_checkpoint(os.path.join(checkpoint_path, 'final_params.ckpt'),\n",
    "                                     noise_model=None,\n",
    "                                     s_decoder=s_decoder,\n",
    "                                     mode_pred=True,\n",
    "                                     img_shape=(512, 512),\n",
    "                                     strict=False).eval()\n",
    "\n",
    "# Evaluate the model on the test set\n",
    "# The returned \"predictions\" will be a list with length equal to the number of noisy images.\n",
    "# Each element of the list is a tensor of shape [n_samples, colours, height, width] and is n_samples many signal estimates for a noisy image\n",
    "predictions = trainer.predict(vae, predict_loader)\n",
    "\n",
    "# To get an MMSE, we take the mean of each batch returned by predict()\n",
    "MMSEs = [samples.mean(dim=0) for samples in predictions]"
   ]
  },
  {
   "cell_type": "code",
   "execution_count": null,
   "id": "492c4630",
   "metadata": {
    "collapsed": false,
    "jupyter": {
     "outputs_hidden": false
    }
   },
   "outputs": [],
   "source": [
    "vmin = np.percentile(low_snr.numpy(), 1)\n",
    "vmax = np.percentile(low_snr.numpy(), 99)"
   ]
  },
  {
   "cell_type": "code",
   "execution_count": null,
   "id": "aa546486",
   "metadata": {
    "collapsed": false,
    "jupyter": {
     "outputs_hidden": false
    }
   },
   "outputs": [],
   "source": [
    "# Select a random image, its corresponding clean estimates and its ground truth\n",
    "idx = np.random.randint(len(predictions))\n",
    "\n",
    "noisy_image = predict_set[idx * n_samples, 0]\n",
    "gt = predict_set_gt[idx, 0]\n",
    "MMSE = MMSEs[idx][0]\n",
    "samples = predictions[idx]\n",
    "\n",
    "# Select a random sample\n",
    "sample_idx = np.random.randint(n_samples)\n",
    "sample = samples[sample_idx, 0]\n",
    "\n",
    "# Display all three\n",
    "fig, ax = plt.subplots(2, 2, figsize=[10, 10])\n",
    "ax[0, 0].imshow(noisy_image[250:500, 250:500], cmap='inferno', vmin=vmin, vmax=vmax)\n",
    "ax[0, 0].axis('off')\n",
    "ax[0, 0].set_title('Input')\n",
    "\n",
    "ax[0, 1].imshow(gt[250:500, 250:500], cmap='inferno', vmin=vmin, vmax=vmax)\n",
    "ax[0, 1].axis('off')\n",
    "ax[0, 1].set_title('Ground truth')\n",
    "\n",
    "ax[1, 0].imshow(MMSE[250:500, 250:500], cmap='inferno', vmin=vmin, vmax=vmax)\n",
    "ax[1, 0].axis('off')\n",
    "ax[1, 0].set_title('MMSE')\n",
    "\n",
    "ax[1, 1].imshow(sample[250:500, 250:500], cmap='inferno', vmin=vmin, vmax=vmax)\n",
    "ax[1, 1].axis('off')\n",
    "ax[1, 1].set_title('Sample')\n",
    "\n",
    "fig.show()"
   ]
  },
  {
   "cell_type": "code",
   "execution_count": null,
   "id": "60e24500",
   "metadata": {
    "collapsed": false,
    "jupyter": {
     "outputs_hidden": false
    }
   },
   "outputs": [],
   "source": [
    "# Calculate PSNR\n",
    "data_range = predict_set_gt.max() - predict_set_gt.min()\n",
    "\n",
    "psnrs = []\n",
    "for i in range(len(predict_set_gt)):\n",
    "    gt = predict_set_gt[i, 0].numpy()\n",
    "\n",
    "    noisy = MMSEs[i][0].numpy()\n",
    "\n",
    "    psnrs.append(PSNR(gt,\n",
    "                      noisy,\n",
    "                      data_range=data_range.item()))\n",
    "\n",
    "print(f\"PSNR: {np.mean(psnrs)}\")"
   ]
  },
  {
   "cell_type": "code",
   "execution_count": null,
   "id": "017dc0ac",
   "metadata": {
    "collapsed": false,
    "jupyter": {
     "outputs_hidden": false
    }
   },
   "outputs": [],
   "source": []
  }
 ],
 "metadata": {
  "kernelspec": {
   "display_name": "Python 3 (ipykernel)",
   "language": "python",
   "name": "python3"
  },
  "language_info": {
   "codemirror_mode": {
    "name": "ipython",
    "version": 3
   },
   "file_extension": ".py",
   "mimetype": "text/x-python",
   "name": "python",
   "nbconvert_exporter": "python",
   "pygments_lexer": "ipython3",
   "version": "3.10.9"
  }
 },
 "nbformat": 4,
 "nbformat_minor": 5
}
