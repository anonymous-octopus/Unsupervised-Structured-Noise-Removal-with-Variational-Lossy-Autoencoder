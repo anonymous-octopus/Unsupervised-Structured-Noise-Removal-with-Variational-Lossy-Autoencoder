{
 "cells": [
  {
   "cell_type": "code",
   "execution_count": null,
   "metadata": {
    "collapsed": false
   },
   "outputs": [],
   "source": [
    "# Modules for deep learning and other operations\n",
    "import os\n",
    "from math import floor, ceil\n",
    "import numpy as np\n",
    "import torch\n",
    "from torchvision import transforms\n",
    "import pytorch_lightning as pl\n",
    "# Modules with networks\n",
    "import sys\n",
    "sys.path.append('../../')\n",
    "from noise_models.cnn import PixelCNN\n",
    "from decoder.net import SDecoder\n",
    "from LVAE.models.lvae import LadderVAE\n",
    "from utils.datasets import TrainDatasetUnsupervised, PredictDatasetVAE\n",
    "# Modules for loading and viewing images\n",
    "import tifffile\n",
    "import matplotlib.pyplot as plt\n",
    "%matplotlib inline"
   ]
  },
  {
   "cell_type": "markdown",
   "metadata": {
    "collapsed": false
   },
   "source": [
    "Benchmark denoised images are provided by:<br> Henninen, T.R., Bon, M., Wang, F., Passerone, D. and Erni, R., 2020. The Structure of Sub‐nm Platinum Clusters at Elevated Temperatures. Angewandte Chemie International Edition, 59(2), pp.839-845."
   ]
  },
  {
   "cell_type": "code",
   "execution_count": null,
   "metadata": {
    "collapsed": false
   },
   "outputs": [],
   "source": [
    "# Load the noisy images\n",
    "# These will be a PyTorch tensor with dimensions: [Number, Colours, Height, Width]\n",
    "low_snr = tifffile.imread('../../data/SEM/low_snr.tif')\n",
    "low_snr = torch.from_numpy(low_snr)\n",
    "\n",
    "# Load the benchmark results\n",
    "benchmark = tifffile.imread('../../data/SEM/benchmark.tif')\n",
    "benchmark = torch.from_numpy(benchmark)"
   ]
  },
  {
   "cell_type": "code",
   "execution_count": null,
   "metadata": {
    "collapsed": false
   },
   "outputs": [],
   "source": [
    "# Check\n",
    "idx = np.random.randint(len(low_snr))\n",
    "fig, ax = plt.subplots(1, 2)\n",
    "ax[0].imshow(low_snr[idx, 0])\n",
    "ax[1].imshow(benchmark[idx, 0])\n",
    "fig.show()"
   ]
  },
  {
   "cell_type": "code",
   "execution_count": null,
   "metadata": {
    "collapsed": false
   },
   "outputs": [],
   "source": [
    "# Create training, validation and prediction dataloaders\n",
    "batch_size = 4\n",
    "crop_size = 256\n",
    "n_iters = max(low_snr.shape[-2], low_snr.shape[-1]) // crop_size\n",
    "transform = transforms.RandomCrop(crop_size)\n",
    "\n",
    "train_val_set = TrainDatasetUnsupervised(low_snr, n_iters=n_iters, transform=transform)\n",
    "train_set, val_set = torch.utils.data.random_split(train_val_set, (floor(0.8*len(train_val_set)), ceil(0.2*len(train_val_set))))\n",
    "train_loader = torch.utils.data.DataLoader(train_set, batch_size=batch_size, shuffle=True)\n",
    "val_loader = torch.utils.data.DataLoader(val_set, batch_size=batch_size, shuffle=False)\n",
    "\n",
    "n_samples = 10 # The number of times the same image should be evaluated on\n",
    "predict_set = PredictDatasetVAE(low_snr, n_samples=n_samples)\n",
    "predict_loader = torch.utils.data.DataLoader(predict_set, batch_size=n_samples, shuffle=False)"
   ]
  },
  {
   "cell_type": "code",
   "execution_count": null,
   "metadata": {
    "collapsed": false
   },
   "outputs": [],
   "source": [
    "# The number of features the clean signal code will have, both the noise model and the signal decoder will need to know this\n",
    "s_code_features = 32\n",
    "\n",
    "# Create the kernel mask for the noise model.\n",
    "# This mask will allow 15 horizontally adjacent pixels into the receptive field.\n",
    "kernel_mask = torch.zeros((1, 16))\n",
    "kernel_mask[-1, :] = 1\n",
    "kernel_mask[:, -1] = 1\n",
    "kernel_mask[-1, -1] = 0\n",
    "\n",
    "# Create the noise model.\n",
    "noise_model = PixelCNN(colour_channels=1,\n",
    "                       code_features=s_code_features,\n",
    "                       kernel_mask=kernel_mask,\n",
    "                       n_filters=32,\n",
    "                       n_layers=4,\n",
    "                       n_gaussians=3)\n",
    "\n",
    "# Create the signal decoder.\n",
    "s_decoder = SDecoder(colour_channels=1, code_features=s_code_features)\n",
    "\n",
    "# Create the VAE\n",
    "# Pass the noise model and signal decoder as an argument\n",
    "vae = LadderVAE(colour_channels=1,\n",
    "                data_mean=low_snr.mean(),\n",
    "                data_std=low_snr.std(),\n",
    "                img_shape=(crop_size, crop_size),\n",
    "                noise_model=noise_model,\n",
    "                s_decoder=s_decoder,\n",
    "                n_filters=s_code_features)"
   ]
  },
  {
   "cell_type": "code",
   "execution_count": null,
   "metadata": {
    "collapsed": false
   },
   "outputs": [],
   "source": [
    "# Where training logs and the trained parameters will be saved\n",
    "checkpoint_path = '../../checkpoints/SEM/DVLAE'\n",
    "\n",
    "# Create the pytorch lightning trainer\n",
    "trainer = pl.Trainer(default_root_dir=checkpoint_path,\n",
    "                     accelerator='gpu',\n",
    "                     devices=1,\n",
    "                     max_epochs=500,\n",
    "                     log_every_n_steps=len(train_set) // batch_size)"
   ]
  },
  {
   "cell_type": "code",
   "execution_count": null,
   "metadata": {
    "collapsed": false
   },
   "outputs": [],
   "source": [
    "# Train and save model\n",
    "trainer.fit(vae, train_loader, val_loader)\n",
    "trainer.save_checkpoint(os.path.join(checkpoint_path, 'final_params.ckpt'))"
   ]
  },
  {
   "cell_type": "code",
   "execution_count": null,
   "metadata": {
    "collapsed": false
   },
   "outputs": [],
   "source": [
    "# Load the trained model\n",
    "# Note the new hyperparameters: the noise model is no longer necessary and the loss does not need to be calculated so <mode_pred> is set True. The image shape <img_shape> is the same this time but would need to be changed if we were to evaluate on images of a different size to the training ones.\n",
    "vae = LadderVAE.load_from_checkpoint(os.path.join(checkpoint_path, 'final_params.ckpt'),\n",
    "                                     noise_model=None,\n",
    "                                     s_decoder=s_decoder,\n",
    "                                     mode_pred=True,\n",
    "                                     img_shape=(450, 512),\n",
    "                                     strict=False).eval()\n",
    "\n",
    "# Evaluate the model on the test set\n",
    "# The returned \"predictions\" will be a list with length equal to the number of noisy images.\n",
    "# Each element of the list is a tensor of shape [n_samples, colours, height, width] and is n_samples many signal estimates for a noisy image\n",
    "predictions = trainer.predict(vae, predict_loader)\n",
    "\n",
    "# To get an MMSE, we take the mean of each batch returned by predict()\n",
    "MMSEs = [samples.mean(dim=0) for samples in predictions]"
   ]
  },
  {
   "cell_type": "code",
   "execution_count": null,
   "metadata": {
    "collapsed": false
   },
   "outputs": [],
   "source": [
    "# Save results to be used as pseudo ground truth for training the noise model of HDN36\n",
    "MMSEs_numpy = torch.stack(MMSEs, dim=0).numpy()\n",
    "tifffile.imwrite('../../data/SEM/DVLAE_results.tif', MMSEs_numpy)"
   ]
  },
  {
   "cell_type": "code",
   "execution_count": null,
   "metadata": {
    "collapsed": false
   },
   "outputs": [],
   "source": [
    "# Peak-of-histogram background subtraction\n",
    "# Code taken from: https://github.com/hentr/peak-of-histogram\n",
    "from numpy import argmax, histogram, zeros\n",
    "def peak_of_histogram(imgdata,individual_frames=True):\n",
    "    nbins = 100 #number of bins for the histogram, 100 should be precise enough\n",
    "    # if len(imgdata.shape) == 2: individual_frames=False\n",
    "\n",
    "    if individual_frames == False: #removes image background from peak of the entire image series' histogram\n",
    "        h = histogram(imgdata,bins=nbins)\n",
    "        hmax = h[1][argmax(h[0])]\n",
    "        subimg = imgdata-hmax\n",
    "        subimg[subimg < 1] = 1 #set negative and 0 values to 1 to avoid divide-by-zero errors in later processing\n",
    "        return(subimg)\n",
    "\n",
    "    elif individual_frames == True: #removes image background from each frame individually, using peak of the image's histogram\n",
    "        newstack = zeros(imgdata.shape)\n",
    "        for i,img in enumerate(imgdata):\n",
    "            h = histogram(img,bins=nbins)\n",
    "            hmax = h[1][argmax(h[0][1:])]  # max of the histogram (ignoring the first bin of the histogram, e.g. black pixels)\n",
    "            subimg = img-hmax\n",
    "            subimg[subimg < 1] = 1  #set negative and 0 values to 1 to avoid divide-by-zero errors in later processing\n",
    "            newstack[i,:,:] = subimg\n",
    "        return(newstack)\n",
    "    else:\n",
    "        raise('\"individual_frames\" must be True or False')\n",
    "\n",
    "predictions_no_background = []\n",
    "for i in range(len(predictions)):\n",
    "    predictions_no_background.append(peak_of_histogram(predictions[i]))\n",
    "\n",
    "MMSEs_no_background = [samples.mean(axis=0) for samples in predictions_no_background]"
   ]
  },
  {
   "cell_type": "code",
   "execution_count": null,
   "metadata": {
    "collapsed": false
   },
   "outputs": [],
   "source": [
    "# Select a random image, its corresponding clean estimates and its ground truth\n",
    "idx = np.random.randint(len(predictions))\n",
    "\n",
    "noisy_image = predict_set[idx * n_samples, 0]\n",
    "bench = benchmark[idx, 0]\n",
    "MMSE = MMSEs_no_background[idx][0]\n",
    "samples = predictions_no_background[idx]\n",
    "\n",
    "# Select a random sample\n",
    "sample_idx = np.random.randint(n_samples)\n",
    "sample = samples[sample_idx, 0]\n",
    "\n",
    "# Display all three\n",
    "fig, ax = plt.subplots(2, 2, figsize=[15, 15])\n",
    "ax[0, 0].imshow(noisy_image, cmap='inferno')\n",
    "ax[0, 0].axis('off')\n",
    "ax[0, 0].set_title('Input')\n",
    "\n",
    "ax[0, 1].imshow(bench, cmap='inferno')\n",
    "ax[0, 1].axis('off')\n",
    "ax[0, 1].set_title('Benchmark')\n",
    "\n",
    "ax[1, 0].imshow(MMSE, cmap='inferno')\n",
    "ax[1, 0].axis('off')\n",
    "ax[1, 0].set_title('MMSE')\n",
    "\n",
    "ax[1, 1].imshow(sample, cmap='inferno')\n",
    "ax[1, 1].axis('off')\n",
    "ax[1, 1].set_title('Sample')\n",
    "\n",
    "fig.show()"
   ]
  },
  {
   "cell_type": "code",
   "execution_count": null,
   "metadata": {
    "collapsed": false
   },
   "outputs": [],
   "source": []
  }
 ],
 "metadata": {
  "kernelspec": {
   "display_name": "Python 3",
   "language": "python",
   "name": "python3"
  },
  "language_info": {
   "codemirror_mode": {
    "name": "ipython",
    "version": 2
   },
   "file_extension": ".py",
   "mimetype": "text/x-python",
   "name": "python",
   "nbconvert_exporter": "python",
   "pygments_lexer": "ipython2",
   "version": "2.7.6"
  }
 },
 "nbformat": 4,
 "nbformat_minor": 0
}
