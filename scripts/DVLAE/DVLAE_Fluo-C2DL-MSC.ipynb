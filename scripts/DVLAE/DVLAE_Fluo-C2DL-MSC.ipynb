{
 "cells": [
  {
   "cell_type": "code",
   "execution_count": null,
   "metadata": {
    "collapsed": false
   },
   "outputs": [],
   "source": [
    "# Modules for deep learning and other operations\n",
    "import os\n",
    "from math import floor, ceil\n",
    "import numpy as np\n",
    "import torch\n",
    "from torchvision import transforms\n",
    "import pytorch_lightning as pl\n",
    "# Modules with networks\n",
    "import sys\n",
    "sys.path.append('../../')\n",
    "from noise_models.cnn import PixelCNN\n",
    "from decoder.net import SDecoder\n",
    "from LVAE.models.lvae import LadderVAE\n",
    "from utils.datasets import TrainDatasetUnsupervised, PredictDatasetVAE\n",
    "# Modules for loading and viewing images\n",
    "import tifffile\n",
    "import matplotlib.pyplot as plt\n",
    "%matplotlib inline"
   ]
  },
  {
   "cell_type": "code",
   "execution_count": null,
   "metadata": {
    "collapsed": false
   },
   "outputs": [],
   "source": [
    "# Load the noisy images\n",
    "# These will be a list of PyTorch tensors with dimensions: [Channels, Height, Width]\n",
    "top_dir = '../../data/Fluo-C2DL-MSC/low_snr'\n",
    "files = os.listdir(top_dir)\n",
    "low_snr = [tifffile.imread(os.path.join(top_dir, file)) for file in files]\n",
    "low_snr = [torch.from_numpy(image) for image in low_snr]"
   ]
  },
  {
   "cell_type": "code",
   "execution_count": null,
   "metadata": {
    "collapsed": false
   },
   "outputs": [],
   "source": [
    "# Calculate mean and standard deviation for normalisation\n",
    "cumulative_sum = 0\n",
    "cumulative_size = 0\n",
    "for i in range(len(low_snr)):\n",
    "    cumulative_sum += low_snr[i].sum()\n",
    "    cumulative_size += low_snr[i].numel()\n",
    "\n",
    "low_snr_mean = cumulative_sum / cumulative_size\n",
    "\n",
    "cumulative_deviation = 0\n",
    "for i in range(len(low_snr)):\n",
    "    cumulative_deviation += ((low_snr[i] - low_snr_mean)**2).sum()\n",
    "\n",
    "low_snr_std = (cumulative_deviation / cumulative_size)**0.5"
   ]
  },
  {
   "cell_type": "code",
   "execution_count": null,
   "metadata": {
    "collapsed": false
   },
   "outputs": [],
   "source": [
    "# Check\n",
    "idx = np.random.randint(len(low_snr))\n",
    "plt.imshow(low_snr[idx][0])\n",
    "plt.show()"
   ]
  },
  {
   "cell_type": "code",
   "execution_count": null,
   "metadata": {
    "collapsed": false
   },
   "outputs": [],
   "source": [
    "# Create training, validation and prediction dataloaders\n",
    "batch_size = 4\n",
    "crop_size = 256\n",
    "n_iters = max(low_snr[0].shape[-2], low_snr[0].shape[-1]) // crop_size\n",
    "transform = transforms.RandomCrop(crop_size)\n",
    "\n",
    "train_val_set = TrainDatasetUnsupervised(low_snr, n_iters=n_iters, transform=transform)\n",
    "train_set, val_set = torch.utils.data.random_split(train_val_set, (floor(0.8*len(train_val_set)), ceil(0.2*len(train_val_set))))\n",
    "train_loader = torch.utils.data.DataLoader(train_set, batch_size=batch_size, shuffle=True)\n",
    "val_loader = torch.utils.data.DataLoader(val_set, batch_size=batch_size, shuffle=False)\n",
    "\n",
    "predict_set = [image[:, :512, :512] for image in low_snr]\n",
    "\n",
    "n_samples = 10 # The number of times the same image should be evaluated on\n",
    "predict_set = PredictDatasetVAE(predict_set, n_samples=n_samples)\n",
    "predict_loader = torch.utils.data.DataLoader(predict_set, batch_size=n_samples, shuffle=False)"
   ]
  },
  {
   "cell_type": "code",
   "execution_count": null,
   "metadata": {
    "collapsed": false
   },
   "outputs": [],
   "source": [
    "# The number of features the clean signal code will have, both the noise model and the signal decoder will need to know this\n",
    "s_code_features = 32\n",
    "\n",
    "# Create the kernel mask for the noise model.\n",
    "# This mask will allow 15 vertically adjacent pixels into the receptive field.\n",
    "kernel_mask = torch.zeros((1, 16))\n",
    "kernel_mask[-1, :] = 1\n",
    "kernel_mask[:, -1] = 1\n",
    "kernel_mask[-1, -1] = 0\n",
    "\n",
    "# Create the noise model.\n",
    "noise_model = PixelCNN(colour_channels=1,\n",
    "                       code_features=s_code_features,\n",
    "                       kernel_mask=kernel_mask,\n",
    "                       n_filters=32,\n",
    "                       n_layers=4,\n",
    "                       n_gaussians=5)\n",
    "\n",
    "# Create the signal decoder.\n",
    "s_decoder = SDecoder(colour_channels=1, code_features=s_code_features)\n",
    "\n",
    "# Create the VAE\n",
    "# Pass the noise model and signal decoder as an argument\n",
    "vae = LadderVAE(colour_channels=1,\n",
    "                data_mean=low_snr_mean,\n",
    "                data_std=low_snr_std,\n",
    "                img_shape=(crop_size, crop_size),\n",
    "                noise_model=noise_model,\n",
    "                s_decoder=s_decoder,\n",
    "                n_filters=s_code_features)"
   ]
  },
  {
   "cell_type": "code",
   "execution_count": null,
   "metadata": {
    "collapsed": false
   },
   "outputs": [],
   "source": [
    "# Where training logs and the trained parameters will be saved\n",
    "checkpoint_path = '../../checkpoints/Fluo-C2DL-MSC/DVLAE/'\n",
    "\n",
    "# Create the pytorch lightning trainer\n",
    "trainer = pl.Trainer(default_root_dir=checkpoint_path,\n",
    "                     accelerator='gpu',\n",
    "                     devices=1,\n",
    "                     max_epochs=500,\n",
    "                     log_every_n_steps=len(train_set) // batch_size)"
   ]
  },
  {
   "cell_type": "code",
   "execution_count": null,
   "metadata": {
    "collapsed": false
   },
   "outputs": [],
   "source": [
    "# Train and save model\n",
    "trainer.fit(vae, train_loader, val_loader)\n",
    "trainer.save_checkpoint(os.path.join(checkpoint_path, 'final_params.ckpt'))"
   ]
  },
  {
   "cell_type": "code",
   "execution_count": null,
   "metadata": {
    "collapsed": false
   },
   "outputs": [],
   "source": [
    "# Load the trained model\n",
    "# Note the new hyperparameters: the noise model is no longer necessary and the loss does not need to be calculated so <mode_pred> is set True. The image shape <img_shape> is the same this time but would need to be changed if we were to evaluate on images of a different size to the training ones.\n",
    "vae = LadderVAE.load_from_checkpoint(os.path.join(checkpoint_path, 'final_params.ckpt'),\n",
    "                                     noise_model=None,\n",
    "                                     s_decoder=s_decoder,\n",
    "                                     mode_pred=True,\n",
    "                                     img_shape=(512, 512),\n",
    "                                     strict=False).eval()\n",
    "\n",
    "# Evaluate the model on the test set\n",
    "# The returned \"predictions\" will be a list with length equal to the number of noisy images.\n",
    "# Each element of the list is a tensor of shape [n_samples, colours, height, width] and is n_samples many signal estimates for a noisy image\n",
    "predictions = trainer.predict(vae, predict_loader)\n",
    "\n",
    "# To get an MMSE, we take the mean of each batch returned by predict()\n",
    "MMSEs = [samples.mean(dim=0) for samples in predictions]"
   ]
  },
  {
   "cell_type": "code",
   "execution_count": null,
   "metadata": {
    "collapsed": false
   },
   "outputs": [],
   "source": [
    "# Save results to be used as pseudo ground truth for training HDN36\n",
    "for i in range(len(MMSEs)):\n",
    "    tifffile.imwrite('../../data/Fluo-C2DL-MSC/DVLAE_results/' + str(i) + '.tif', MMSEs[i].numpy())"
   ]
  },
  {
   "cell_type": "code",
   "execution_count": null,
   "metadata": {
    "collapsed": false
   },
   "outputs": [],
   "source": [
    "# Select a random image, its corresponding clean estimates and its ground truth\n",
    "idx = np.random.randint(len(predictions))\n",
    "\n",
    "noisy_image = predict_set[idx * n_samples][0]\n",
    "MMSE = MMSEs[idx][0]\n",
    "samples = predictions[idx]\n",
    "\n",
    "# Select a random sample\n",
    "sample_idx = np.random.randint(n_samples)\n",
    "sample = samples[sample_idx, 0]\n",
    "\n",
    "vmin = np.percentile(noisy_image, 1)\n",
    "vmax = np.percentile(noisy_image, 99.99)\n",
    "\n",
    "# Display all three\n",
    "fig, ax = plt.subplots(1, 3, figsize=[15, 15])\n",
    "ax[0].imshow(noisy_image, cmap='inferno', vmin=vmin, vmax=vmax)\n",
    "ax[0].axis('off')\n",
    "ax[0].set_title('Input')\n",
    "\n",
    "ax[1].imshow(MMSE, cmap='inferno', vmin=vmin, vmax=vmax)\n",
    "ax[1].axis('off')\n",
    "ax[1].set_title('MMSE')\n",
    "\n",
    "ax[2].imshow(sample, cmap='inferno', vmin=vmin, vmax=vmax)\n",
    "ax[2].axis('off')\n",
    "ax[2].set_title('Sample')\n",
    "\n",
    "fig.show()"
   ]
  },
  {
   "cell_type": "code",
   "execution_count": null,
   "metadata": {
    "collapsed": false
   },
   "outputs": [],
   "source": []
  }
 ],
 "metadata": {
  "kernelspec": {
   "display_name": "Python 3",
   "language": "python",
   "name": "python3"
  },
  "language_info": {
   "codemirror_mode": {
    "name": "ipython",
    "version": 2
   },
   "file_extension": ".py",
   "mimetype": "text/x-python",
   "name": "python",
   "nbconvert_exporter": "python",
   "pygments_lexer": "ipython2",
   "version": "2.7.6"
  }
 },
 "nbformat": 4,
 "nbformat_minor": 0
}
